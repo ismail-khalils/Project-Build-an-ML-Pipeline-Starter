{
 "cells": [
  {
   "cell_type": "code",
   "execution_count": 1,
   "id": "3aca0715",
   "metadata": {},
   "outputs": [],
   "source": [
    "!pip install wandb==0.13.9\n",
    "!pip install pandas-profiling==3.6.2\n",
    "!pip install pandas==1.2.3"
   ]
  },
  {
   "cell_type": "code",
   "execution_count": 2,
   "id": "42c385dc",
   "metadata": {},
   "outputs": [
    {
     "data": {
      "text/html": [
       "wandb version 0.16.6 is available!  To upgrade, please run:\n",
       " $ pip install wandb --upgrade"
      ],
      "text/plain": [
       "<IPython.core.display.HTML object>"
      ]
     },
     "metadata": {},
     "output_type": "display_data"
    },
    {
     "data": {
      "text/html": [
       "Tracking run with wandb version 0.13.9"
      ],
      "text/plain": [
       "<IPython.core.display.HTML object>"
      ]
     },
     "metadata": {},
     "output_type": "display_data"
    },
    {
     "data": {
      "text/html": [
       "Run data is saved locally in <code>/home/ismail/Project-Build-an-ML-Pipeline-Starter/src/eda/wandb/run-20240430_213652-yu6onl18</code>"
      ],
      "text/plain": [
       "<IPython.core.display.HTML object>"
      ]
     },
     "metadata": {},
     "output_type": "display_data"
    },
    {
     "data": {
      "text/html": [
       "Syncing run <strong><a href=\"https://wandb.ai/ismail-k/nyc_airbnb/runs/yu6onl18\" target=\"_blank\">smooth-sound-4</a></strong> to <a href=\"https://wandb.ai/ismail-k/nyc_airbnb\" target=\"_blank\">Weights & Biases</a> (<a href=\"https://wandb.me/run\" target=\"_blank\">docs</a>)<br/>"
      ],
      "text/plain": [
       "<IPython.core.display.HTML object>"
      ]
     },
     "metadata": {},
     "output_type": "display_data"
    },
    {
     "data": {
      "text/html": [
       " View project at <a href=\"https://wandb.ai/ismail-k/nyc_airbnb\" target=\"_blank\">https://wandb.ai/ismail-k/nyc_airbnb</a>"
      ],
      "text/plain": [
       "<IPython.core.display.HTML object>"
      ]
     },
     "metadata": {},
     "output_type": "display_data"
    },
    {
     "data": {
      "text/html": [
       " View run at <a href=\"https://wandb.ai/ismail-k/nyc_airbnb/runs/yu6onl18\" target=\"_blank\">https://wandb.ai/ismail-k/nyc_airbnb/runs/yu6onl18</a>"
      ],
      "text/plain": [
       "<IPython.core.display.HTML object>"
      ]
     },
     "metadata": {},
     "output_type": "display_data"
    }
   ],
   "source": [
    "import wandb\n",
    "import pandas as pd\n",
    "# Note that we use save_code=True in the call to wandb.init so the notebook is uploaded and versioned by W&B\n",
    "run = wandb.init(project=\"nyc_airbnb\", group=\"eda\", save_code=True)\n",
    "local_path = wandb.use_artifact(\"sample.csv:latest\").file()\n",
    "df = pd.read_csv(local_path)"
   ]
  },
  {
   "cell_type": "code",
   "execution_count": 3,
   "id": "81c4a4be",
   "metadata": {},
   "outputs": [],
   "source": [
    "$ pip install wandb --upgrade"
   ]
  },
  {
   "cell_type": "code",
   "execution_count": 4,
   "id": "0606891b",
   "metadata": {},
   "outputs": [],
   "source": [
    "$pip install wandb --upgrade"
   ]
  },
  {
   "cell_type": "code",
   "execution_count": 5,
   "id": "28ef28cc",
   "metadata": {},
   "outputs": [],
   "source": [
    "!pip install wandb --upgrade"
   ]
  },
  {
   "cell_type": "code",
   "execution_count": 6,
   "id": "026c1cbf",
   "metadata": {},
   "outputs": [],
   "source": [
    "import wandb\n",
    "import pandas as pd\n",
    "# Note that we use save_code=True in the call to wandb.init so the notebook is uploaded and versioned by W&B\n",
    "run = wandb.init(project=\"nyc_airbnb\", group=\"eda\", save_code=True)\n",
    "local_path = wandb.use_artifact(\"sample.csv:latest\").file()\n",
    "df = pd.read_csv(local_path)"
   ]
  }
 ],
 "metadata": {
  "kernelspec": {
   "display_name": "Python 3",
   "language": "python",
   "name": "python3"
  },
  "language_info": {
   "codemirror_mode": {
    "name": "ipython",
    "version": 3
   },
   "file_extension": ".py",
   "mimetype": "text/x-python",
   "name": "python",
   "nbconvert_exporter": "python",
   "pygments_lexer": "ipython3",
   "version": "3.9.15"
  }
 },
 "nbformat": 4,
 "nbformat_minor": 5
}
